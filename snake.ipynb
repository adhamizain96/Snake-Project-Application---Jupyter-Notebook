{
 "cells": [
  {
   "cell_type": "code",
   "execution_count": 2,
   "id": "2a7b5172",
   "metadata": {},
   "outputs": [],
   "source": [
    "import turtle as t\n",
    "#constants need to be in all caps\n",
    "#starting_pos = [0,1,2]\n",
    "STARTING_POS = [(0,0), (-20,0), (-40,0)]\n",
    "MOVE_DIS = 20\n",
    "UP = 90\n",
    "DOWN = 270\n",
    "LEFT = 180\n",
    "RIGHT = 0\n",
    "\n",
    "class Snake:\n",
    "    def __init__(self):\n",
    "        self.segments = []\n",
    "        self.create_snake()\n",
    "        self.head = self.segments[0]\n",
    "    def create_snake(self):\n",
    "        for pos in STARTING_POS:\n",
    "            self.add_seg(pos)\n",
    "    def add_seg(self, pos):\n",
    "        new_seg = t.Turtle('square')\n",
    "        new_seg.color('white')\n",
    "        new_seg.penup()\n",
    "        new_seg.goto(pos)\n",
    "        self.segments.append(new_seg)\n",
    "    def extend(self):\n",
    "        self.add_seg(self.segments[-1].pos())\n",
    "    def move_snake(self):\n",
    "        #len(segments) - [1,2,3] -> len(segments)-1 - [0,1,2]\n",
    "        #how the snake moves - have to go in reverse\n",
    "        for seg_num in range(len(self.segments) - 1, 0, -1):\n",
    "            x_new = self.segments[seg_num - 1].xcor()\n",
    "            y_new = self.segments[seg_num - 1].ycor()\n",
    "            self.segments[seg_num].goto(x_new, y_new)\n",
    "        self.head.forward(MOVE_DIS)\n",
    "    def up(self):\n",
    "        if self.head.heading() != DOWN:\n",
    "            self.head.setheading(UP)\n",
    "    def down(self):\n",
    "        if self.head.heading() != UP:\n",
    "            self.head.setheading(DOWN)\n",
    "    def left(self):\n",
    "        if self.head.heading() != RIGHT:\n",
    "            self.head.setheading(LEFT)\n",
    "    def right(self):\n",
    "        if self.head.heading() != LEFT:\n",
    "            self.head.setheading(RIGHT)"
   ]
  },
  {
   "cell_type": "code",
   "execution_count": null,
   "id": "38c973f2",
   "metadata": {},
   "outputs": [],
   "source": []
  }
 ],
 "metadata": {
  "kernelspec": {
   "display_name": "Python 3",
   "language": "python",
   "name": "python3"
  },
  "language_info": {
   "codemirror_mode": {
    "name": "ipython",
    "version": 3
   },
   "file_extension": ".py",
   "mimetype": "text/x-python",
   "name": "python",
   "nbconvert_exporter": "python",
   "pygments_lexer": "ipython3",
   "version": "3.8.8"
  }
 },
 "nbformat": 4,
 "nbformat_minor": 5
}
