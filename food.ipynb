{
 "cells": [
  {
   "cell_type": "code",
   "execution_count": 1,
   "id": "fae2c70f",
   "metadata": {},
   "outputs": [],
   "source": [
    "import turtle as t\n",
    "import random\n",
    "\n",
    "class Snake_Food(t.Turtle):\n",
    "    def __init__(self):\n",
    "        #super().__init__() - class inheritance - allows us to take an existing class, and build upon it\n",
    "        super().__init__()\n",
    "        self.shape('circle')\n",
    "        self.penup()\n",
    "        #t.shapesize() - stretch_wid, stretch_len, and outline - allows us to stretch the length and width of the turtle\n",
    "        self.shapesize(stretch_len = 0.5, stretch_wid = 0.5)\n",
    "        self.color('blue')\n",
    "        self.speed('fastest')\n",
    "        self.refresh()\n",
    "    def refresh(self):   \n",
    "        x_rand = random.randint(-280, 280)\n",
    "        y_rand = random.randint(-280, 280)\n",
    "        #t.goto() - make it go to a random x and y location\n",
    "        self.goto(x_rand, y_rand)"
   ]
  },
  {
   "cell_type": "code",
   "execution_count": null,
   "id": "b531a4be",
   "metadata": {},
   "outputs": [],
   "source": []
  }
 ],
 "metadata": {
  "kernelspec": {
   "display_name": "Python 3",
   "language": "python",
   "name": "python3"
  },
  "language_info": {
   "codemirror_mode": {
    "name": "ipython",
    "version": 3
   },
   "file_extension": ".py",
   "mimetype": "text/x-python",
   "name": "python",
   "nbconvert_exporter": "python",
   "pygments_lexer": "ipython3",
   "version": "3.8.8"
  }
 },
 "nbformat": 4,
 "nbformat_minor": 5
}
