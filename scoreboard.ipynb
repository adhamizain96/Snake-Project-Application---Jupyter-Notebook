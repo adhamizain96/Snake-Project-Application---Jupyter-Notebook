{
 "cells": [
  {
   "cell_type": "code",
   "execution_count": 1,
   "id": "d528af37",
   "metadata": {},
   "outputs": [],
   "source": [
    "import turtle as t\n",
    "ALIGNMENT = 'center'\n",
    "FONT = ('Arial', 25, 'normal')\n",
    "\n",
    "class Snake_Scoreboard(t.Turtle):\n",
    "    def __init__(self):\n",
    "        #super().__init__() - class inheritance - allows us to take an existing class, and build upon it\n",
    "        super().__init__()\n",
    "        self.score = 0\n",
    "        self.color('white')\n",
    "        self.penup()\n",
    "        #t.goto() - make it go to a random x and y location\n",
    "        self.goto(0, 270)\n",
    "        self.hideturtle()\n",
    "        self.update_scoreboard()\n",
    "    def update_scoreboard(self):\n",
    "        self.write(f'Score: {self.score}', align = ALIGNMENT, font = FONT)\n",
    "    def game_over(self):\n",
    "        #start it back to its original location \n",
    "        self.goto(0, 0)\n",
    "        self.write('Game Over. Try Again!', align = ALIGNMENT, font = FONT)\n",
    "    def increase_score(self):\n",
    "        self.score += 1\n",
    "        self.clear()\n",
    "        self.update_scoreboard()"
   ]
  },
  {
   "cell_type": "code",
   "execution_count": null,
   "id": "aa461e47",
   "metadata": {},
   "outputs": [],
   "source": []
  }
 ],
 "metadata": {
  "kernelspec": {
   "display_name": "Python 3",
   "language": "python",
   "name": "python3"
  },
  "language_info": {
   "codemirror_mode": {
    "name": "ipython",
    "version": 3
   },
   "file_extension": ".py",
   "mimetype": "text/x-python",
   "name": "python",
   "nbconvert_exporter": "python",
   "pygments_lexer": "ipython3",
   "version": "3.8.8"
  }
 },
 "nbformat": 4,
 "nbformat_minor": 5
}
