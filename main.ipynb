{
 "cells": [
  {
   "cell_type": "code",
   "execution_count": 2,
   "id": "5ad3f5a9",
   "metadata": {},
   "outputs": [
    {
     "ename": "ModuleNotFoundError",
     "evalue": "No module named 'snake'",
     "output_type": "error",
     "traceback": [
      "\u001b[0;31m---------------------------------------------------------------------------\u001b[0m",
      "\u001b[0;31mModuleNotFoundError\u001b[0m                       Traceback (most recent call last)",
      "\u001b[0;32m<ipython-input-2-5e7deffb03ed>\u001b[0m in \u001b[0;36m<module>\u001b[0;34m\u001b[0m\n\u001b[1;32m      1\u001b[0m \u001b[0;32mimport\u001b[0m \u001b[0mturtle\u001b[0m \u001b[0;32mas\u001b[0m \u001b[0mt\u001b[0m\u001b[0;34m\u001b[0m\u001b[0;34m\u001b[0m\u001b[0m\n\u001b[0;32m----> 2\u001b[0;31m \u001b[0;32mfrom\u001b[0m \u001b[0msnake\u001b[0m \u001b[0;32mimport\u001b[0m \u001b[0mSnake\u001b[0m\u001b[0;34m\u001b[0m\u001b[0;34m\u001b[0m\u001b[0m\n\u001b[0m\u001b[1;32m      3\u001b[0m \u001b[0;32mfrom\u001b[0m \u001b[0mfood\u001b[0m \u001b[0;32mimport\u001b[0m \u001b[0mSnake_Food\u001b[0m\u001b[0;34m\u001b[0m\u001b[0;34m\u001b[0m\u001b[0m\n\u001b[1;32m      4\u001b[0m \u001b[0;32mfrom\u001b[0m \u001b[0mscoreboard\u001b[0m \u001b[0;32mimport\u001b[0m \u001b[0mSnake_Scoreboard\u001b[0m\u001b[0;34m\u001b[0m\u001b[0;34m\u001b[0m\u001b[0m\n\u001b[1;32m      5\u001b[0m \u001b[0;32mimport\u001b[0m \u001b[0mtime\u001b[0m\u001b[0;34m\u001b[0m\u001b[0;34m\u001b[0m\u001b[0m\n",
      "\u001b[0;31mModuleNotFoundError\u001b[0m: No module named 'snake'"
     ]
    }
   ],
   "source": [
    "import turtle as t\n",
    "from snake import Snake\n",
    "from food import Snake_Food\n",
    "from scoreboard import Snake_Scoreboard\n",
    "import time\n",
    "\n",
    "screen = t.Screen()\n",
    "screen.setup(width = 500, height = 500)\n",
    "screen.bgcolor('black')\n",
    "screen.title('Snake Game')\n",
    "screen.tracer(0)\n",
    "\n",
    "snake = Snake()\n",
    "food = Snake_Food()\n",
    "scoreboard = Snake_Scoreboard()\n",
    "\n",
    "screen.listen()\n",
    "screen.onkey(snake.up, 'w')\n",
    "screen.onkey(snake.down, 's')\n",
    "screen.onkey(snake.left, 'a')\n",
    "screen.onkey(snake.right, 'd')\n",
    "\n",
    "snake_game_on = True\n",
    "while snake_game_on:\n",
    "    screen.update()\n",
    "    time.sleep(0.1)\n",
    "    snake.move_snake()\n",
    "    if snake.head.distance(food) < 15:\n",
    "        food.refresh()\n",
    "        snake.extend()\n",
    "        scoreboard.increase_score()\n",
    "    if snake.head.xcor() > 280 or snake.head.xcor() < -280 or snake.head.ycor() > 280 or snake.head.ycor() < -280:\n",
    "        snake_game_on = False\n",
    "        scoreboard.game_over()\n",
    "    for seg in snake.segments:\n",
    "        if seg == snake.head:\n",
    "            pass\n",
    "        elif snake.head.distance(seg) < 10:\n",
    "            snake_game_on = False\n",
    "            scoreboard.game_over\n",
    "\n",
    "screen.exitonclick()"
   ]
  },
  {
   "cell_type": "code",
   "execution_count": null,
   "id": "55c08cf1",
   "metadata": {},
   "outputs": [],
   "source": []
  }
 ],
 "metadata": {
  "kernelspec": {
   "display_name": "Python 3",
   "language": "python",
   "name": "python3"
  },
  "language_info": {
   "codemirror_mode": {
    "name": "ipython",
    "version": 3
   },
   "file_extension": ".py",
   "mimetype": "text/x-python",
   "name": "python",
   "nbconvert_exporter": "python",
   "pygments_lexer": "ipython3",
   "version": "3.8.8"
  }
 },
 "nbformat": 4,
 "nbformat_minor": 5
}
